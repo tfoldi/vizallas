{
 "cells": [
  {
   "cell_type": "markdown",
   "id": "09b4acc4",
   "metadata": {},
   "source": [
    "# Vizugy portal scraper\n",
    "\n",
    "We start by scraping the latest available water level data from the website https://www.vizugy.hu/?mapData=VizmerceLista#mapData using the BeautifulSoup (bs4) library. This website provides information on water level measuring stations across Hungary. We extract the necessary data using the appropriate HTML selectors to ensure accuracy and reliability.\n",
    "\n",
    "Once we have the latest available data, we proceed to iterate through each link on the page to access the historical water level data for each measuring station (hourly data)."
   ]
  },
  {
   "cell_type": "code",
   "execution_count": null,
   "id": "76c56594",
   "metadata": {},
   "outputs": [],
   "source": [
    "import pandas as pd \n",
    "import os\n",
    "import tqdm\n",
    "from sqlalchemy import create_engine"
   ]
  },
  {
   "cell_type": "code",
   "execution_count": null,
   "id": "970ae027",
   "metadata": {},
   "outputs": [],
   "source": [
    "VIZUGY_WEBPAGE = 'https://www.vizugy.hu/'"
   ]
  },
  {
   "cell_type": "markdown",
   "id": "e595c5dd",
   "metadata": {},
   "source": [
    "Connect to target database"
   ]
  },
  {
   "cell_type": "code",
   "execution_count": null,
   "id": "74911a00",
   "metadata": {},
   "outputs": [],
   "source": [
    "engine = create_engine( os.getenv(\"PG_URL\") )"
   ]
  },
  {
   "cell_type": "markdown",
   "id": "787cb929",
   "metadata": {},
   "source": [
    "Get the first table from the `VizmerceLista` site"
   ]
  },
  {
   "cell_type": "code",
   "execution_count": null,
   "id": "721bdc9e",
   "metadata": {},
   "outputs": [],
   "source": [
    "df = pd.read_html(f'{VIZUGY_WEBPAGE}?mapData=VizmerceLista#mapData', extract_links=\"body\")\n",
    "df = df[0]"
   ]
  },
  {
   "cell_type": "markdown",
   "id": "7bec9165",
   "metadata": {},
   "source": [
    "All columns here are tuple typed. First is the value of the cell, second is the link (if it is a link)."
   ]
  },
  {
   "cell_type": "code",
   "execution_count": null,
   "id": "ab5b3670",
   "metadata": {},
   "outputs": [],
   "source": [
    "df"
   ]
  },
  {
   "cell_type": "markdown",
   "id": "2bdb86cd",
   "metadata": {},
   "source": [
    "We simply split the tupe to `_val` and `_url` columns."
   ]
  },
  {
   "cell_type": "code",
   "execution_count": null,
   "id": "0e3af33e",
   "metadata": {},
   "outputs": [],
   "source": [
    "for col in df.columns:\n",
    "    if col == 'Vízmérce':\n",
    "        df[[col, f'{col}_url']] = pd.DataFrame(df[col].to_list(), index=df.index)\n",
    "    else:\n",
    "        df[col] = df[col].apply(lambda x: x[0])\n"
   ]
  },
  {
   "cell_type": "code",
   "execution_count": null,
   "id": "1029574f",
   "metadata": {},
   "outputs": [],
   "source": [
    "df.to_sql('raw_list', con=engine, if_exists='replace', index_label='id')"
   ]
  },
  {
   "cell_type": "markdown",
   "id": "357791c2",
   "metadata": {},
   "source": [
    "This is how the link look like for a subpage (Station page)"
   ]
  },
  {
   "cell_type": "code",
   "execution_count": null,
   "id": "a1ec9cad",
   "metadata": {},
   "outputs": [],
   "source": [
    "df.iloc[0][\"Vízmérce_url\"]\n"
   ]
  },
  {
   "cell_type": "markdown",
   "id": "fa385d1f",
   "metadata": {},
   "source": [
    "Let's got through all subpage (station page) and collect the hourly table. All of this data will be available as `hourly_data`. Scraping these hundreds page took a while (5 mins or so)."
   ]
  },
  {
   "cell_type": "code",
   "execution_count": null,
   "id": "ddf69fc1",
   "metadata": {},
   "outputs": [],
   "source": [
    "df_list = []\n",
    "\n",
    "for index, row in tqdm.tqdm(df.iterrows(), total=len(df)): \n",
    "    df2 = pd.read_html(f'{VIZUGY_WEBPAGE}{df.iloc[index][\"Vízmérce_url\"]}',parse_dates=True)\n",
    "    df2[1][\"Vízmérce\"] = df.iloc[index][\"Vízmérce\"]\n",
    "    df_list.append(df2[1])\n",
    "\n",
    "hourly_data = pd.concat(df_list)\n"
   ]
  },
  {
   "cell_type": "code",
   "execution_count": null,
   "id": "9b8a4583",
   "metadata": {},
   "outputs": [],
   "source": [
    "hourly_data"
   ]
  },
  {
   "cell_type": "markdown",
   "id": "2d99c966",
   "metadata": {},
   "source": [
    "Save to postgres "
   ]
  },
  {
   "cell_type": "code",
   "execution_count": null,
   "id": "25968f6b",
   "metadata": {},
   "outputs": [],
   "source": [
    "hourly_data.to_sql('raw_hourly_data', con=engine, if_exists='replace',\n",
    "           index_label='id')"
   ]
  }
 ],
 "metadata": {
  "kernelspec": {
   "display_name": "Python 3 (ipykernel)",
   "language": "python",
   "name": "python3"
  },
  "language_info": {
   "codemirror_mode": {
    "name": "ipython",
    "version": 3
   },
   "file_extension": ".py",
   "mimetype": "text/x-python",
   "name": "python",
   "nbconvert_exporter": "python",
   "pygments_lexer": "ipython3",
   "version": "3.11.4"
  }
 },
 "nbformat": 4,
 "nbformat_minor": 5
}
