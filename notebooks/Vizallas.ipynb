{
 "cells": [
  {
   "cell_type": "code",
   "execution_count": 1,
   "id": "4b1a3755",
   "metadata": {},
   "outputs": [],
   "source": [
    "import pandas as pd \n"
   ]
  },
  {
   "cell_type": "code",
   "execution_count": 50,
   "id": "d41505e1",
   "metadata": {},
   "outputs": [],
   "source": [
    "VIZUGY_WEBPAGE = 'https://www.vizugy.hu/'"
   ]
  },
  {
   "cell_type": "code",
   "execution_count": 51,
   "id": "c3573652",
   "metadata": {},
   "outputs": [],
   "source": [
    "df = pd.read_html(f'{VIZUGY_WEBPAGE}?mapData=VizmerceLista#mapData', extract_links=\"body\")\n",
    "df = df[0]"
   ]
  },
  {
   "cell_type": "code",
   "execution_count": 52,
   "id": "beb57eb0",
   "metadata": {},
   "outputs": [],
   "source": [
    "for col in df.columns:\n",
    "    df[[f'{col}_val', f'{col}_url']] = pd.DataFrame(df[col].to_list(), index=df.index)\n",
    "    df.drop(col, axis=1, inplace=True)\n"
   ]
  },
  {
   "cell_type": "code",
   "execution_count": 54,
   "id": "29b5a584",
   "metadata": {},
   "outputs": [
    {
     "data": {
      "text/plain": [
       "'?mapModule=OpGrafikon&AllomasVOA=16496185-97AB-11D4-BB62-00508BA24287&mapData=OrasIdosor#mapData'"
      ]
     },
     "execution_count": 54,
     "metadata": {},
     "output_type": "execute_result"
    }
   ],
   "source": [
    "df.iloc[0][\"Vízmérce_url\"]\n"
   ]
  },
  {
   "cell_type": "code",
   "execution_count": 68,
   "id": "cd799fb0",
   "metadata": {},
   "outputs": [],
   "source": [
    "df_list = []\n",
    "\n",
    "for index, row in df.iterrows():\n",
    "    df2 = pd.read_html(f'{VIZUGY_WEBPAGE}{df.iloc[index][\"Vízmérce_url\"]}',parse_dates=True)\n",
    "    df2[1][\"Vízmérce\"] = df.iloc[index][\"Vízmérce_val\"]\n",
    "    df_list.append(df2[1])\n",
    "\n",
    "hourly_data = pd.concat(df_list)\n"
   ]
  },
  {
   "cell_type": "code",
   "execution_count": 70,
   "id": "5a1caadd",
   "metadata": {},
   "outputs": [
    {
     "data": {
      "text/html": [
       "<div>\n",
       "<style scoped>\n",
       "    .dataframe tbody tr th:only-of-type {\n",
       "        vertical-align: middle;\n",
       "    }\n",
       "\n",
       "    .dataframe tbody tr th {\n",
       "        vertical-align: top;\n",
       "    }\n",
       "\n",
       "    .dataframe thead th {\n",
       "        text-align: right;\n",
       "    }\n",
       "</style>\n",
       "<table border=\"1\" class=\"dataframe\">\n",
       "  <thead>\n",
       "    <tr style=\"text-align: right;\">\n",
       "      <th></th>\n",
       "      <th>Időpont</th>\n",
       "      <th>Vízállás (cm)</th>\n",
       "      <th>Vízhozam (m3/s)</th>\n",
       "      <th>Vízhő (C°)</th>\n",
       "      <th>Vízmérce</th>\n",
       "    </tr>\n",
       "  </thead>\n",
       "  <tbody>\n",
       "    <tr>\n",
       "      <th>0</th>\n",
       "      <td>2023.07.02. 18:00</td>\n",
       "      <td>47.0</td>\n",
       "      <td>NaN</td>\n",
       "      <td>22.3</td>\n",
       "      <td>Adony</td>\n",
       "    </tr>\n",
       "    <tr>\n",
       "      <th>1</th>\n",
       "      <td>2023.07.02. 17:00</td>\n",
       "      <td>48.0</td>\n",
       "      <td>NaN</td>\n",
       "      <td>22.7</td>\n",
       "      <td>Adony</td>\n",
       "    </tr>\n",
       "    <tr>\n",
       "      <th>2</th>\n",
       "      <td>2023.07.02. 16:00</td>\n",
       "      <td>48.0</td>\n",
       "      <td>NaN</td>\n",
       "      <td>22.8</td>\n",
       "      <td>Adony</td>\n",
       "    </tr>\n",
       "    <tr>\n",
       "      <th>3</th>\n",
       "      <td>2023.07.02. 15:00</td>\n",
       "      <td>48.0</td>\n",
       "      <td>NaN</td>\n",
       "      <td>22.6</td>\n",
       "      <td>Adony</td>\n",
       "    </tr>\n",
       "    <tr>\n",
       "      <th>4</th>\n",
       "      <td>2023.07.02. 14:00</td>\n",
       "      <td>49.0</td>\n",
       "      <td>NaN</td>\n",
       "      <td>22.5</td>\n",
       "      <td>Adony</td>\n",
       "    </tr>\n",
       "    <tr>\n",
       "      <th>...</th>\n",
       "      <td>...</td>\n",
       "      <td>...</td>\n",
       "      <td>...</td>\n",
       "      <td>...</td>\n",
       "      <td>...</td>\n",
       "    </tr>\n",
       "    <tr>\n",
       "      <th>498</th>\n",
       "      <td>2023.06.12. 00:00</td>\n",
       "      <td>49.0</td>\n",
       "      <td>0.266</td>\n",
       "      <td>NaN</td>\n",
       "      <td>Zalalövő</td>\n",
       "    </tr>\n",
       "    <tr>\n",
       "      <th>499</th>\n",
       "      <td>2023.06.11. 23:00</td>\n",
       "      <td>50.0</td>\n",
       "      <td>0.290</td>\n",
       "      <td>NaN</td>\n",
       "      <td>Zalalövő</td>\n",
       "    </tr>\n",
       "    <tr>\n",
       "      <th>500</th>\n",
       "      <td>2023.06.11. 22:00</td>\n",
       "      <td>51.0</td>\n",
       "      <td>0.322</td>\n",
       "      <td>NaN</td>\n",
       "      <td>Zalalövő</td>\n",
       "    </tr>\n",
       "    <tr>\n",
       "      <th>501</th>\n",
       "      <td>2023.06.11. 21:00</td>\n",
       "      <td>51.0</td>\n",
       "      <td>0.322</td>\n",
       "      <td>NaN</td>\n",
       "      <td>Zalalövő</td>\n",
       "    </tr>\n",
       "    <tr>\n",
       "      <th>502</th>\n",
       "      <td>2023.06.11. 20:00</td>\n",
       "      <td>51.0</td>\n",
       "      <td>0.322</td>\n",
       "      <td>NaN</td>\n",
       "      <td>Zalalövő</td>\n",
       "    </tr>\n",
       "  </tbody>\n",
       "</table>\n",
       "<p>97634 rows × 5 columns</p>\n",
       "</div>"
      ],
      "text/plain": [
       "               Időpont  Vízállás (cm)  Vízhozam (m3/s)  Vízhő (C°)  Vízmérce\n",
       "0    2023.07.02. 18:00           47.0              NaN        22.3     Adony\n",
       "1    2023.07.02. 17:00           48.0              NaN        22.7     Adony\n",
       "2    2023.07.02. 16:00           48.0              NaN        22.8     Adony\n",
       "3    2023.07.02. 15:00           48.0              NaN        22.6     Adony\n",
       "4    2023.07.02. 14:00           49.0              NaN        22.5     Adony\n",
       "..                 ...            ...              ...         ...       ...\n",
       "498  2023.06.12. 00:00           49.0            0.266         NaN  Zalalövő\n",
       "499  2023.06.11. 23:00           50.0            0.290         NaN  Zalalövő\n",
       "500  2023.06.11. 22:00           51.0            0.322         NaN  Zalalövő\n",
       "501  2023.06.11. 21:00           51.0            0.322         NaN  Zalalövő\n",
       "502  2023.06.11. 20:00           51.0            0.322         NaN  Zalalövő\n",
       "\n",
       "[97634 rows x 5 columns]"
      ]
     },
     "execution_count": 70,
     "metadata": {},
     "output_type": "execute_result"
    }
   ],
   "source": [
    "hourly_data"
   ]
  }
 ],
 "metadata": {
  "kernelspec": {
   "display_name": "Python 3 (ipykernel)",
   "language": "python",
   "name": "python3"
  },
  "language_info": {
   "codemirror_mode": {
    "name": "ipython",
    "version": 3
   },
   "file_extension": ".py",
   "mimetype": "text/x-python",
   "name": "python",
   "nbconvert_exporter": "python",
   "pygments_lexer": "ipython3",
   "version": "3.11.4"
  }
 },
 "nbformat": 4,
 "nbformat_minor": 5
}
